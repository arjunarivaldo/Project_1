{
 "cells": [
  {
   "cell_type": "markdown",
   "metadata": {
    "id": "fsLtEIKyPngU"
   },
   "source": [
    "# 1.Setup"
   ]
  },
  {
   "cell_type": "code",
   "execution_count": 60,
   "metadata": {
    "id": "8Kby5uW3Affv"
   },
   "outputs": [],
   "source": [
    "import pandas as pd\n",
    "import seaborn as sns\n",
    "import matplotlib.pyplot as plt\n",
    "\n",
    "from scipy.sparse import hstack\n",
    "from sklearn.model_selection import train_test_split\n",
    "from sklearn.feature_extraction.text import TfidfVectorizer\n",
    "from sklearn.svm import SVC\n",
    "from sklearn.metrics import classification_report, confusion_matrix, accuracy_score\n",
    "from sklearn.pipeline import Pipeline, FeatureUnion\n",
    "from sklearn.preprocessing import FunctionTransformer"
   ]
  },
  {
   "cell_type": "markdown",
   "metadata": {},
   "source": [
    "## 1.1 Create Helper Functions"
   ]
  },
  {
   "cell_type": "code",
   "execution_count": 61,
   "metadata": {},
   "outputs": [],
   "source": [
    "def create_question_feature(text_series):\n",
    "    \"\"\"\n",
    "    Membuat fitur biner yang menandakan apakah sebuah teks mengandung tanda tanya '?'.\n",
    "    Menggunakan metode .str.contains() yang lebih efisien.\n",
    "    \"\"\"\n",
    "    # regex=False memastikan pencarian literal untuk '?'\n",
    "    return text_series.str.contains('?', regex=False).astype(int).values.reshape(-1, 1)\n",
    "\n",
    "def plot_confusion_matrix(y_true, y_pred, classes, title='Confusion Matrix'):\n",
    "    \"\"\"\n",
    "    Membuat dan menampilkan plot confusion matrix.\n",
    "    \"\"\"\n",
    "    cm = confusion_matrix(y_true, y_pred)\n",
    "    plt.figure(figsize=(8, 6))\n",
    "    sns.heatmap(cm, annot=True, fmt='d', cmap='Greens', \n",
    "                xticklabels=classes, yticklabels=classes)\n",
    "    plt.xlabel('Predicted Label')\n",
    "    plt.ylabel('True Label')\n",
    "    plt.title(title)\n",
    "    plt.show()"
   ]
  },
  {
   "cell_type": "markdown",
   "metadata": {
    "id": "HmhGqw30Pnge"
   },
   "source": [
    "# 2.Load Dataset"
   ]
  },
  {
   "cell_type": "code",
   "execution_count": null,
   "metadata": {
    "id": "CKzmlZjTlt57"
   },
   "outputs": [
    {
     "name": "stdout",
     "output_type": "stream",
     "text": [
      "Dataset berhasil dimuat\n",
      "Jumlah data: 1815 baris\n"
     ]
    }
   ],
   "source": [
    "FILE_PATH = \"tweet_bersih.csv\"\n",
    "df = pd.read_csv(FILE_PATH)\n",
    "\n",
    "TEST_SIZE = 0.15\n",
    "RANDOM_STATE = 16\n",
    "\n",
    "try:\n",
    "    df = pd.read_csv(FILE_PATH)\n",
    "    print('Dataset berhasil dimuat')\n",
    "    print(f'Jumlah data: {len(df)} baris')\n",
    "except FileNotFoundError:\n",
    "    print(f\"Error: File tidak ditemukan di '{FILE_PATH}'. Pastikan path sudah benar\")\n",
    "    exit()"
   ]
  },
  {
   "cell_type": "markdown",
   "metadata": {
    "id": "YBe1PMJ8Pngk"
   },
   "source": [
    "# 3.Preparing Data"
   ]
  },
  {
   "cell_type": "code",
   "execution_count": 63,
   "metadata": {
    "id": "YNUBk9F_Pngl"
   },
   "outputs": [],
   "source": [
    "X_text = df['tweet_bersih'].fillna('')\n",
    "y = df['sentimen']\n",
    "\n",
    "X_text_train, X_text_test, y_train, y_test = train_test_split(\n",
    "    X_text, y, \n",
    "    test_size=TEST_SIZE, \n",
    "    random_state=RANDOM_STATE, \n",
    "    stratify=y\n",
    ")"
   ]
  },
  {
   "cell_type": "markdown",
   "metadata": {},
   "source": [
    "# 4. Create and Train the Model using a Pipeline"
   ]
  },
  {
   "cell_type": "code",
   "execution_count": null,
   "metadata": {},
   "outputs": [
    {
     "name": "stdout",
     "output_type": "stream",
     "text": [
      "\n",
      "--- Menggunakan scikit-learn Pipeline ---\n",
      "Memulai training model...\n",
      "Training selesai!\n"
     ]
    }
   ],
   "source": [
    "print(\"\\n--- Menggunakan scikit-learn Pipeline ---\")\n",
    "\n",
    "# Mendefinisikan pipeline untuk ekstraksi fitur gabungan\n",
    "feature_extraction = FeatureUnion([\n",
    "    ('tfidf', TfidfVectorizer(max_features=800, min_df=5, ngram_range=(1, 3))),\n",
    "    ('question_feature', FunctionTransformer(create_question_feature, validate=False))\n",
    "])\n",
    "\n",
    "# Buat pipeline utama yang menggabungkan ekstraksi fitur dan classifier\n",
    "model_pipeline = Pipeline([\n",
    "    ('features', feature_extraction),\n",
    "    ('classifier', SVC(kernel='linear', probability=True, random_state=RANDOM_STATE))\n",
    "])\n",
    "\n",
    "# Melatih pipeline dengan data training mentah\n",
    "print(\"Memulai training model...\")\n",
    "model_pipeline.fit(X_text_train, y_train)\n",
    "print(\"Training selesai!\")\n"
   ]
  },
  {
   "cell_type": "markdown",
   "metadata": {
    "id": "vGlgjLfwPngm"
   },
   "source": [
    "# 5. Prediction and Evaluate the Model"
   ]
  },
  {
   "cell_type": "code",
   "execution_count": 66,
   "metadata": {
    "id": "-oA2jfjRPngm"
   },
   "outputs": [
    {
     "name": "stdout",
     "output_type": "stream",
     "text": [
      "\n",
      "--- Hasil Evaluasi Model SVC (via Pipeline) ---\n",
      "Akurasi Data Latih : 0.8119\n",
      "Akurasi Data Uji   : 0.6520\n",
      "\n",
      "Laporan Klasifikasi Data Uji:\n",
      "              precision    recall  f1-score   support\n",
      "\n",
      "     negatif       0.61      0.71      0.66        90\n",
      "      netral       0.67      0.62      0.64        91\n",
      "     positif       0.69      0.63      0.66        92\n",
      "\n",
      "    accuracy                           0.65       273\n",
      "   macro avg       0.66      0.65      0.65       273\n",
      "weighted avg       0.66      0.65      0.65       273\n",
      "\n"
     ]
    },
    {
     "data": {
      "image/png": "[encoded data removed]",
      "text/plain": [
       "<Figure size 800x600 with 2 Axes>"
      ]
     },
     "metadata": {},
     "output_type": "display_data"
    }
   ],
   "source": [
    "y_pred_test = model_pipeline.predict(X_text_test)\n",
    "y_pred_train = model_pipeline.predict(X_text_train)\n",
    "\n",
    "# Menampilkan hasil evaluasi\n",
    "print(\"\\n--- Hasil Evaluasi Model SVC (via Pipeline) ---\")\n",
    "print(f\"Akurasi Data Latih : {accuracy_score(y_train, y_pred_train):.4f}\")\n",
    "print(f\"Akurasi Data Uji   : {accuracy_score(y_test, y_pred_test):.4f}\")\n",
    "\n",
    "print(\"\\nLaporan Klasifikasi Data Uji:\")\n",
    "print(classification_report(y_test, y_pred_test))\n",
    "\n",
    "plot_confusion_matrix(y_test, y_pred_test, classes=model_pipeline.classes_, title='Confusion Matrix - SVC')"
   ]
  },
  {
   "cell_type": "code",
   "execution_count": null,
   "metadata": {},
   "outputs": [],
   "source": []
  }
 ],
 "metadata": {
  "colab": {
   "provenance": []
  },
  "kernelspec": {
   "display_name": "base",
   "language": "python",
   "name": "python3"
  },
  "language_info": {
   "codemirror_mode": {
    "name": "ipython",
    "version": 3
   },
   "file_extension": ".py",
   "mimetype": "text/x-python",
   "name": "python",
   "nbconvert_exporter": "python",
   "pygments_lexer": "ipython3",
   "version": "3.13.5"
  }
 },
 "nbformat": 4,
 "nbformat_minor": 0
}
