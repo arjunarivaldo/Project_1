{
 "cells": [
  {
   "cell_type": "markdown",
   "metadata": {
    "id": "fsLtEIKyPngU"
   },
   "source": [
    "# 1.Setup"
   ]
  },
  {
   "cell_type": "code",
   "execution_count": null,
   "metadata": {
    "executionInfo": {
     "elapsed": 3,
     "status": "ok",
     "timestamp": 1759926695906,
     "user": {
      "displayName": "Arjuna Rivaldo",
      "userId": "01428253285493029486"
     },
     "user_tz": -540
    },
    "id": "8Kby5uW3Affv"
   },
   "outputs": [],
   "source": [
    "# Library untuk manipulasi data dan numerik\n",
    "import pandas as pd\n",
    "import numpy as np\n",
    "\n",
    "# Library untuk visualisasi data\n",
    "import matplotlib.pyplot as plt\n",
    "import seaborn as sns\n",
    "\n",
    "# Library Scikit-Learn untuk pemodelan machine learning\n",
    "from sklearn.model_selection import train_test_split\n",
    "from sklearn.metrics import classification_report, confusion_matrix, accuracy_score\n",
    "\n",
    "# Library TensorFlow/Keras untuk Deep Learning\n",
    "from tensorflow.keras.models import Sequential\n",
    "from tensorflow.keras.optimizers import Adam\n",
    "from tensorflow.keras.layers import Embedding, Bidirectional, LSTM, Dropout, Dense\n",
    "from tensorflow.keras.preprocessing.text import Tokenizer\n",
    "from tensorflow.keras.preprocessing.sequence import pad_sequences\n",
    "from tensorflow.keras.utils import to_categorical\n",
    "from tensorflow.keras.callbacks import EarlyStopping\n",
    "from tensorflow.keras.regularizers import l2\n",
    "\n",
    "# Perintah khusus untuk Jupyter Notebook/IPython agar plot tampil inline\n",
    "%matplotlib inline"
   ]
  },
  {
   "cell_type": "markdown",
   "metadata": {
    "id": "HmhGqw30Pnge"
   },
   "source": [
    "# 2. Load Dataset & Word Embeddings (Glove/Word2Vec)"
   ]
  },
  {
   "cell_type": "markdown",
   "metadata": {},
   "source": [
    "## 2.1. Load Data"
   ]
  },
  {
   "cell_type": "code",
   "execution_count": 77,
   "metadata": {
    "executionInfo": {
     "elapsed": 227,
     "status": "ok",
     "timestamp": 1759926697186,
     "user": {
      "displayName": "Arjuna Rivaldo",
      "userId": "01428253285493029486"
     },
     "user_tz": -540
    },
    "id": "CKzmlZjTlt57"
   },
   "outputs": [],
   "source": [
    "file_path = r\"E:\\My Drive\\Indonesia AI\\Fundamental NLP\\Project 1\\Data_Processed\\tweet_bersih.csv\"\n",
    "df = pd.read_csv(file_path)"
   ]
  },
  {
   "cell_type": "markdown",
   "metadata": {},
   "source": [
    "## 2.2. Load Pre-trained Word Embeddings (Word2Vec/Glove-like format)"
   ]
  },
  {
   "cell_type": "code",
   "execution_count": 78,
   "metadata": {
    "colab": {
     "base_uri": "https://localhost:8080/"
    },
    "executionInfo": {
     "elapsed": 7968,
     "status": "ok",
     "timestamp": 1759926705155,
     "user": {
      "displayName": "Arjuna Rivaldo",
      "userId": "01428253285493029486"
     },
     "user_tz": -540
    },
    "id": "hA441UeEyCF4",
    "outputId": "67a80bca-425f-4bbc-9888-2805927529c3"
   },
   "outputs": [
    {
     "name": "stdout",
     "output_type": "stream",
     "text": [
      "Loading word vectors...\n",
      "Loaded 129391 word vectors.\n"
     ]
    }
   ],
   "source": [
    "glove_file = r\"E:\\My Drive\\Indonesia AI\\Fundamental NLP\\Project 1\\Data_raw\\Word2Vec_400dim.txt\"\n",
    "embedding_dim = 400\n",
    "embeddings_index = {}\n",
    "\n",
    "print(\"Loading word vectors...\")\n",
    "with open(glove_file, 'r', encoding='utf-8') as f:\n",
    "    for line in f:\n",
    "        values = line.split()\n",
    "        # Logika dasar: Memastikan baris memiliki format yang benar\n",
    "        try:\n",
    "            # Coba konversi nilai pertama setelah kata menjadi float\n",
    "            float(values[1])\n",
    "        except (ValueError, IndexError):\n",
    "            # Lompati baris jika tidak dapat dikonversi atau tidak ada nilai\n",
    "            continue\n",
    "\n",
    "        word = values[0]\n",
    "        # Konversi sisa nilai ke array numpy float32\n",
    "        vector = np.asarray(values[1:], dtype='float32')\n",
    "        embeddings_index[word] = vector\n",
    "\n",
    "print(f'Loaded {len(embeddings_index)} word vectors.')"
   ]
  },
  {
   "cell_type": "markdown",
   "metadata": {},
   "source": [
    "## 2.3. Data Preparation"
   ]
  },
  {
   "cell_type": "code",
   "execution_count": 79,
   "metadata": {
    "executionInfo": {
     "elapsed": 6,
     "status": "ok",
     "timestamp": 1759926705157,
     "user": {
      "displayName": "Arjuna Rivaldo",
      "userId": "01428253285493029486"
     },
     "user_tz": -540
    },
    "id": "CopayuiryCF5"
   },
   "outputs": [],
   "source": [
    "X = df['tweet_bersih'].astype(str)\n",
    "y = df['sentimen']\n",
    "\n",
    "# Encode labels (Mapping string label ke integer)\n",
    "encoder = {'negatif': 0, 'netral': 1, 'positif': 2}\n",
    "y_encode = y.map(encoder)\n",
    "\n",
    "# One-Hot Encoding untuk output (sesuai kebutuhan Keras/TensorFlow)\n",
    "y_encode = to_categorical(y_encode, num_classes=3)"
   ]
  },
  {
   "cell_type": "markdown",
   "metadata": {
    "id": "YBe1PMJ8Pngk"
   },
   "source": [
    "# 3. Text Preprocessing (Tokenization & Padding)"
   ]
  },
  {
   "cell_type": "markdown",
   "metadata": {
    "id": "r7ZiYNMWyCF6"
   },
   "source": [
    "## 3.1. Tokenisasi"
   ]
  },
  {
   "cell_type": "code",
   "execution_count": 80,
   "metadata": {},
   "outputs": [],
   "source": [
    "MAX_LEN = 35\n",
    "\n",
    "# Inisiasi Tokenizer\n",
    "tokenizer = Tokenizer(num_words=5000, oov_token=\"<unk>\")\n",
    "tokenizer.fit_on_texts(X)\n",
    "\n",
    "# Convert texts to sequences\n",
    "X_seq = tokenizer.texts_to_sequences(X)\n",
    "\n",
    "# Padding (membuat panjang sequence seragam)\n",
    "# panjang_token = [len(s) for s in X_seq] # Code ini di-komen, dipindahkan ke sini agar rapi\n",
    "# print(np.percentile(panjang_token, 90)) # Code ini di-komen, dipindahkan ke sini agar rapi\n",
    "X_pad = pad_sequences(X_seq, maxlen=MAX_LEN, padding='post', truncating='post')"
   ]
  },
  {
   "cell_type": "markdown",
   "metadata": {
    "id": "Bomy0o5_yCF6"
   },
   "source": [
    "## 3.2. Embedding Matrix Creation"
   ]
  },
  {
   "cell_type": "code",
   "execution_count": 81,
   "metadata": {
    "executionInfo": {
     "elapsed": 2,
     "status": "ok",
     "timestamp": 1759926705202,
     "user": {
      "displayName": "Arjuna Rivaldo",
      "userId": "01428253285493029486"
     },
     "user_tz": -540
    },
    "id": "s6lmHwp0yCF6"
   },
   "outputs": [],
   "source": [
    "vocab_size = len(tokenizer.word_index) + 1  # +1 for reserved 0 index (padding)\n",
    "# embedding_dim sudah didefinisikan di awal (400)\n",
    "\n",
    "embedding_matrix = np.zeros((vocab_size, embedding_dim))\n",
    "\n",
    "# Mengisi embedding matrix dengan vector dari embeddings_index\n",
    "for word, i in tokenizer.word_index.items():\n",
    "    if i < vocab_size:\n",
    "        vector = embeddings_index.get(word)\n",
    "        if vector is not None:\n",
    "            embedding_matrix[i] = vector\n"
   ]
  },
  {
   "cell_type": "markdown",
   "metadata": {},
   "source": [
    "## 3.3. Data Splitting"
   ]
  },
  {
   "cell_type": "code",
   "execution_count": 82,
   "metadata": {
    "executionInfo": {
     "elapsed": 2,
     "status": "ok",
     "timestamp": 1759926705221,
     "user": {
      "displayName": "Arjuna Rivaldo",
      "userId": "01428253285493029486"
     },
     "user_tz": -540
    },
    "id": "-m1K_CqTyCF7"
   },
   "outputs": [],
   "source": [
    "X_train, X_test, y_train, y_test = train_test_split(\n",
    "    X_pad, y_encode,\n",
    "    test_size=0.2,\n",
    "    random_state=16\n",
    ")"
   ]
  },
  {
   "cell_type": "markdown",
   "metadata": {
    "id": "vGlgjLfwPngm"
   },
   "source": [
    "# 4. Model Building & Training (Bi-LSTM)"
   ]
  },
  {
   "cell_type": "markdown",
   "metadata": {},
   "source": [
    "## 4.1. Model Definition"
   ]
  },
  {
   "cell_type": "code",
   "execution_count": 83,
   "metadata": {
    "colab": {
     "base_uri": "https://localhost:8080/",
     "height": 623
    },
    "executionInfo": {
     "elapsed": 10619,
     "status": "ok",
     "timestamp": 1759926715850,
     "user": {
      "displayName": "Arjuna Rivaldo",
      "userId": "01428253285493029486"
     },
     "user_tz": -540
    },
    "id": "YCVVNaDNyCF7",
    "outputId": "2bea07c1-bacc-476e-ebcd-36b03a89da24"
   },
   "outputs": [
    {
     "name": "stderr",
     "output_type": "stream",
     "text": [
      "c:\\Users\\arjun\\anaconda3\\Lib\\site-packages\\keras\\src\\layers\\core\\embedding.py:97: UserWarning: Argument `input_length` is deprecated. Just remove it.\n",
      "  warnings.warn(\n"
     ]
    }
   ],
   "source": [
    "L2_REG = 0.005\n",
    "\n",
    "model_lstm = Sequential([\n",
    "    # Layer 1: Embedding\n",
    "    Embedding(\n",
    "        input_dim=vocab_size,\n",
    "        output_dim=embedding_dim,\n",
    "        weights=[embedding_matrix],\n",
    "        input_length=MAX_LEN,\n",
    "        trainable=True  # Agar bobot embedding dapat di-update selama training\n",
    "    ),\n",
    "    # Layer 2: Bi-directional LSTM\n",
    "    Dropout(0.5),\n",
    "    Bidirectional(\n",
    "        LSTM(\n",
    "            24,\n",
    "            dropout=0.2,\n",
    "            recurrent_dropout=0.2,\n",
    "            kernel_regularizer=l2(L2_REG)\n",
    "        )\n",
    "    ),\n",
    "    # Layer 3: Dropout\n",
    "    Dropout(0.5),\n",
    "    # Layer 4: Output Dense Layer (3 kelas, Softmax)\n",
    "    Dense(\n",
    "        3,\n",
    "        activation='softmax',\n",
    "        kernel_regularizer=l2(L2_REG)\n",
    "    )\n",
    "])\n"
   ]
  },
  {
   "cell_type": "markdown",
   "metadata": {},
   "source": [
    "## 4.2. Compile Model"
   ]
  },
  {
   "cell_type": "code",
   "execution_count": 84,
   "metadata": {},
   "outputs": [
    {
     "data": {
      "text/html": [
       "<pre style=\"white-space:pre;overflow-x:auto;line-height:normal;font-family:Menlo,'DejaVu Sans Mono',consolas,'Courier New',monospace\"><span style=\"font-weight: bold\">Model: \"sequential_6\"</span>\n",
       "</pre>\n"
      ],
      "text/plain": [
       "\u001b[1mModel: \"sequential_6\"\u001b[0m\n"
      ]
     },
     "metadata": {},
     "output_type": "display_data"
    },
    {
     "data": {
      "text/html": [
       "<pre style=\"white-space:pre;overflow-x:auto;line-height:normal;font-family:Menlo,'DejaVu Sans Mono',consolas,'Courier New',monospace\">┏━━━━━━━━━━━━━━━━━━━━━━━━━━━━━━━━━┳━━━━━━━━━━━━━━━━━━━━━━━━┳━━━━━━━━━━━━━━━┓\n",
       "┃<span style=\"font-weight: bold\"> Layer (type)                    </span>┃<span style=\"font-weight: bold\"> Output Shape           </span>┃<span style=\"font-weight: bold\">       Param # </span>┃\n",
       "┡━━━━━━━━━━━━━━━━━━━━━━━━━━━━━━━━━╇━━━━━━━━━━━━━━━━━━━━━━━━╇━━━━━━━━━━━━━━━┩\n",
       "│ embedding_6 (<span style=\"color: #0087ff; text-decoration-color: #0087ff\">Embedding</span>)         │ ?                      │     <span style=\"color: #00af00; text-decoration-color: #00af00\">2,245,200</span> │\n",
       "├─────────────────────────────────┼────────────────────────┼───────────────┤\n",
       "│ dropout_9 (<span style=\"color: #0087ff; text-decoration-color: #0087ff\">Dropout</span>)             │ ?                      │             <span style=\"color: #00af00; text-decoration-color: #00af00\">0</span> │\n",
       "├─────────────────────────────────┼────────────────────────┼───────────────┤\n",
       "│ bidirectional_6 (<span style=\"color: #0087ff; text-decoration-color: #0087ff\">Bidirectional</span>) │ ?                      │   <span style=\"color: #00af00; text-decoration-color: #00af00\">0</span> (unbuilt) │\n",
       "├─────────────────────────────────┼────────────────────────┼───────────────┤\n",
       "│ dropout_10 (<span style=\"color: #0087ff; text-decoration-color: #0087ff\">Dropout</span>)            │ ?                      │             <span style=\"color: #00af00; text-decoration-color: #00af00\">0</span> │\n",
       "├─────────────────────────────────┼────────────────────────┼───────────────┤\n",
       "│ dense_6 (<span style=\"color: #0087ff; text-decoration-color: #0087ff\">Dense</span>)                 │ ?                      │   <span style=\"color: #00af00; text-decoration-color: #00af00\">0</span> (unbuilt) │\n",
       "└─────────────────────────────────┴────────────────────────┴───────────────┘\n",
       "</pre>\n"
      ],
      "text/plain": [
       "┏━━━━━━━━━━━━━━━━━━━━━━━━━━━━━━━━━┳━━━━━━━━━━━━━━━━━━━━━━━━┳━━━━━━━━━━━━━━━┓\n",
       "┃\u001b[1m \u001b[0m\u001b[1mLayer (type)                   \u001b[0m\u001b[1m \u001b[0m┃\u001b[1m \u001b[0m\u001b[1mOutput Shape          \u001b[0m\u001b[1m \u001b[0m┃\u001b[1m \u001b[0m\u001b[1m      Param #\u001b[0m\u001b[1m \u001b[0m┃\n",
       "┡━━━━━━━━━━━━━━━━━━━━━━━━━━━━━━━━━╇━━━━━━━━━━━━━━━━━━━━━━━━╇━━━━━━━━━━━━━━━┩\n",
       "│ embedding_6 (\u001b[38;5;33mEmbedding\u001b[0m)         │ ?                      │     \u001b[38;5;34m2,245,200\u001b[0m │\n",
       "├─────────────────────────────────┼────────────────────────┼───────────────┤\n",
       "│ dropout_9 (\u001b[38;5;33mDropout\u001b[0m)             │ ?                      │             \u001b[38;5;34m0\u001b[0m │\n",
       "├─────────────────────────────────┼────────────────────────┼───────────────┤\n",
       "│ bidirectional_6 (\u001b[38;5;33mBidirectional\u001b[0m) │ ?                      │   \u001b[38;5;34m0\u001b[0m (unbuilt) │\n",
       "├─────────────────────────────────┼────────────────────────┼───────────────┤\n",
       "│ dropout_10 (\u001b[38;5;33mDropout\u001b[0m)            │ ?                      │             \u001b[38;5;34m0\u001b[0m │\n",
       "├─────────────────────────────────┼────────────────────────┼───────────────┤\n",
       "│ dense_6 (\u001b[38;5;33mDense\u001b[0m)                 │ ?                      │   \u001b[38;5;34m0\u001b[0m (unbuilt) │\n",
       "└─────────────────────────────────┴────────────────────────┴───────────────┘\n"
      ]
     },
     "metadata": {},
     "output_type": "display_data"
    },
    {
     "data": {
      "text/html": [
       "<pre style=\"white-space:pre;overflow-x:auto;line-height:normal;font-family:Menlo,'DejaVu Sans Mono',consolas,'Courier New',monospace\"><span style=\"font-weight: bold\"> Total params: </span><span style=\"color: #00af00; text-decoration-color: #00af00\">2,245,200</span> (8.56 MB)\n",
       "</pre>\n"
      ],
      "text/plain": [
       "\u001b[1m Total params: \u001b[0m\u001b[38;5;34m2,245,200\u001b[0m (8.56 MB)\n"
      ]
     },
     "metadata": {},
     "output_type": "display_data"
    },
    {
     "data": {
      "text/html": [
       "<pre style=\"white-space:pre;overflow-x:auto;line-height:normal;font-family:Menlo,'DejaVu Sans Mono',consolas,'Courier New',monospace\"><span style=\"font-weight: bold\"> Trainable params: </span><span style=\"color: #00af00; text-decoration-color: #00af00\">2,245,200</span> (8.56 MB)\n",
       "</pre>\n"
      ],
      "text/plain": [
       "\u001b[1m Trainable params: \u001b[0m\u001b[38;5;34m2,245,200\u001b[0m (8.56 MB)\n"
      ]
     },
     "metadata": {},
     "output_type": "display_data"
    },
    {
     "data": {
      "text/html": [
       "<pre style=\"white-space:pre;overflow-x:auto;line-height:normal;font-family:Menlo,'DejaVu Sans Mono',consolas,'Courier New',monospace\"><span style=\"font-weight: bold\"> Non-trainable params: </span><span style=\"color: #00af00; text-decoration-color: #00af00\">0</span> (0.00 B)\n",
       "</pre>\n"
      ],
      "text/plain": [
       "\u001b[1m Non-trainable params: \u001b[0m\u001b[38;5;34m0\u001b[0m (0.00 B)\n"
      ]
     },
     "metadata": {},
     "output_type": "display_data"
    }
   ],
   "source": [
    "model_lstm.compile(\n",
    "    loss='categorical_crossentropy',\n",
    "    optimizer=Adam(learning_rate=0.0002),\n",
    "    metrics=['accuracy']\n",
    ")\n",
    "\n",
    "model_lstm.summary()"
   ]
  },
  {
   "cell_type": "markdown",
   "metadata": {},
   "source": [
    "## 4.3. Training Model"
   ]
  },
  {
   "cell_type": "code",
   "execution_count": 85,
   "metadata": {},
   "outputs": [
    {
     "name": "stdout",
     "output_type": "stream",
     "text": [
      "\n",
      "Training model...\n",
      "Epoch 1/100\n",
      "\u001b[1m39/39\u001b[0m \u001b[32m━━━━━━━━━━━━━━━━━━━━\u001b[0m\u001b[37m\u001b[0m \u001b[1m8s\u001b[0m 73ms/step - accuracy: 0.3047 - loss: 2.6492 - val_accuracy: 0.3624 - val_loss: 2.4938\n",
      "Epoch 2/100\n",
      "\u001b[1m39/39\u001b[0m \u001b[32m━━━━━━━━━━━━━━━━━━━━\u001b[0m\u001b[37m\u001b[0m \u001b[1m2s\u001b[0m 56ms/step - accuracy: 0.3371 - loss: 2.4439 - val_accuracy: 0.3761 - val_loss: 2.3246\n",
      "Epoch 3/100\n",
      "\u001b[1m39/39\u001b[0m \u001b[32m━━━━━━━━━━━━━━━━━━━━\u001b[0m\u001b[37m\u001b[0m \u001b[1m2s\u001b[0m 52ms/step - accuracy: 0.3663 - loss: 2.2824 - val_accuracy: 0.4128 - val_loss: 2.1799\n",
      "Epoch 4/100\n",
      "\u001b[1m39/39\u001b[0m \u001b[32m━━━━━━━━━━━━━━━━━━━━\u001b[0m\u001b[37m\u001b[0m \u001b[1m2s\u001b[0m 55ms/step - accuracy: 0.3882 - loss: 2.1469 - val_accuracy: 0.4358 - val_loss: 2.0562\n",
      "Epoch 5/100\n",
      "\u001b[1m39/39\u001b[0m \u001b[32m━━━━━━━━━━━━━━━━━━━━\u001b[0m\u001b[37m\u001b[0m \u001b[1m2s\u001b[0m 56ms/step - accuracy: 0.4441 - loss: 2.0175 - val_accuracy: 0.4633 - val_loss: 1.9480\n",
      "Epoch 6/100\n",
      "\u001b[1m39/39\u001b[0m \u001b[32m━━━━━━━━━━━━━━━━━━━━\u001b[0m\u001b[37m\u001b[0m \u001b[1m2s\u001b[0m 55ms/step - accuracy: 0.4028 - loss: 1.9258 - val_accuracy: 0.4771 - val_loss: 1.8550\n",
      "Epoch 7/100\n",
      "\u001b[1m39/39\u001b[0m \u001b[32m━━━━━━━━━━━━━━━━━━━━\u001b[0m\u001b[37m\u001b[0m \u001b[1m2s\u001b[0m 58ms/step - accuracy: 0.4360 - loss: 1.8352 - val_accuracy: 0.5138 - val_loss: 1.7730\n",
      "Epoch 8/100\n",
      "\u001b[1m39/39\u001b[0m \u001b[32m━━━━━━━━━━━━━━━━━━━━\u001b[0m\u001b[37m\u001b[0m \u001b[1m2s\u001b[0m 53ms/step - accuracy: 0.4579 - loss: 1.7580 - val_accuracy: 0.5183 - val_loss: 1.6979\n",
      "Epoch 9/100\n",
      "\u001b[1m39/39\u001b[0m \u001b[32m━━━━━━━━━━━━━━━━━━━━\u001b[0m\u001b[37m\u001b[0m \u001b[1m2s\u001b[0m 54ms/step - accuracy: 0.4870 - loss: 1.6687 - val_accuracy: 0.5321 - val_loss: 1.6303\n",
      "Epoch 10/100\n",
      "\u001b[1m39/39\u001b[0m \u001b[32m━━━━━━━━━━━━━━━━━━━━\u001b[0m\u001b[37m\u001b[0m \u001b[1m2s\u001b[0m 58ms/step - accuracy: 0.5235 - loss: 1.6067 - val_accuracy: 0.5413 - val_loss: 1.5782\n",
      "Epoch 11/100\n",
      "\u001b[1m39/39\u001b[0m \u001b[32m━━━━━━━━━━━━━━━━━━━━\u001b[0m\u001b[37m\u001b[0m \u001b[1m2s\u001b[0m 57ms/step - accuracy: 0.5413 - loss: 1.5506 - val_accuracy: 0.5550 - val_loss: 1.5210\n",
      "Epoch 12/100\n",
      "\u001b[1m39/39\u001b[0m \u001b[32m━━━━━━━━━━━━━━━━━━━━\u001b[0m\u001b[37m\u001b[0m \u001b[1m2s\u001b[0m 54ms/step - accuracy: 0.5673 - loss: 1.4967 - val_accuracy: 0.5596 - val_loss: 1.4800\n",
      "Epoch 13/100\n",
      "\u001b[1m39/39\u001b[0m \u001b[32m━━━━━━━━━━━━━━━━━━━━\u001b[0m\u001b[37m\u001b[0m \u001b[1m2s\u001b[0m 52ms/step - accuracy: 0.5284 - loss: 1.4667 - val_accuracy: 0.5596 - val_loss: 1.4474\n",
      "Epoch 14/100\n",
      "\u001b[1m39/39\u001b[0m \u001b[32m━━━━━━━━━━━━━━━━━━━━\u001b[0m\u001b[37m\u001b[0m \u001b[1m2s\u001b[0m 52ms/step - accuracy: 0.5729 - loss: 1.4055 - val_accuracy: 0.5917 - val_loss: 1.4188\n",
      "Epoch 15/100\n",
      "\u001b[1m39/39\u001b[0m \u001b[32m━━━━━━━━━━━━━━━━━━━━\u001b[0m\u001b[37m\u001b[0m \u001b[1m2s\u001b[0m 52ms/step - accuracy: 0.5624 - loss: 1.3910 - val_accuracy: 0.5826 - val_loss: 1.3974\n",
      "Epoch 16/100\n",
      "\u001b[1m39/39\u001b[0m \u001b[32m━━━━━━━━━━━━━━━━━━━━\u001b[0m\u001b[37m\u001b[0m \u001b[1m2s\u001b[0m 51ms/step - accuracy: 0.5940 - loss: 1.3501 - val_accuracy: 0.5688 - val_loss: 1.3805\n",
      "Epoch 17/100\n",
      "\u001b[1m39/39\u001b[0m \u001b[32m━━━━━━━━━━━━━━━━━━━━\u001b[0m\u001b[37m\u001b[0m \u001b[1m2s\u001b[0m 52ms/step - accuracy: 0.6062 - loss: 1.3141 - val_accuracy: 0.5963 - val_loss: 1.3497\n",
      "Epoch 18/100\n",
      "\u001b[1m39/39\u001b[0m \u001b[32m━━━━━━━━━━━━━━━━━━━━\u001b[0m\u001b[37m\u001b[0m \u001b[1m2s\u001b[0m 50ms/step - accuracy: 0.6062 - loss: 1.2964 - val_accuracy: 0.5917 - val_loss: 1.3307\n",
      "Epoch 19/100\n",
      "\u001b[1m39/39\u001b[0m \u001b[32m━━━━━━━━━━━━━━━━━━━━\u001b[0m\u001b[37m\u001b[0m \u001b[1m2s\u001b[0m 51ms/step - accuracy: 0.6232 - loss: 1.2570 - val_accuracy: 0.5872 - val_loss: 1.3290\n",
      "Epoch 20/100\n",
      "\u001b[1m39/39\u001b[0m \u001b[32m━━━━━━━━━━━━━━━━━━━━\u001b[0m\u001b[37m\u001b[0m \u001b[1m2s\u001b[0m 51ms/step - accuracy: 0.6378 - loss: 1.2263 - val_accuracy: 0.6009 - val_loss: 1.3000\n",
      "Epoch 21/100\n",
      "\u001b[1m39/39\u001b[0m \u001b[32m━━━━━━━━━━━━━━━━━━━━\u001b[0m\u001b[37m\u001b[0m \u001b[1m2s\u001b[0m 51ms/step - accuracy: 0.6207 - loss: 1.2128 - val_accuracy: 0.5917 - val_loss: 1.2982\n",
      "Epoch 22/100\n",
      "\u001b[1m39/39\u001b[0m \u001b[32m━━━━━━━━━━━━━━━━━━━━\u001b[0m\u001b[37m\u001b[0m \u001b[1m2s\u001b[0m 50ms/step - accuracy: 0.6305 - loss: 1.1955 - val_accuracy: 0.6101 - val_loss: 1.2716\n",
      "Epoch 23/100\n",
      "\u001b[1m39/39\u001b[0m \u001b[32m━━━━━━━━━━━━━━━━━━━━\u001b[0m\u001b[37m\u001b[0m \u001b[1m2s\u001b[0m 55ms/step - accuracy: 0.6434 - loss: 1.1641 - val_accuracy: 0.6055 - val_loss: 1.2550\n",
      "Epoch 24/100\n",
      "\u001b[1m39/39\u001b[0m \u001b[32m━━━━━━━━━━━━━━━━━━━━\u001b[0m\u001b[37m\u001b[0m \u001b[1m2s\u001b[0m 50ms/step - accuracy: 0.6540 - loss: 1.1430 - val_accuracy: 0.6193 - val_loss: 1.2457\n",
      "Epoch 25/100\n",
      "\u001b[1m39/39\u001b[0m \u001b[32m━━━━━━━━━━━━━━━━━━━━\u001b[0m\u001b[37m\u001b[0m \u001b[1m2s\u001b[0m 51ms/step - accuracy: 0.6653 - loss: 1.1258 - val_accuracy: 0.6101 - val_loss: 1.2446\n",
      "Epoch 26/100\n",
      "\u001b[1m39/39\u001b[0m \u001b[32m━━━━━━━━━━━━━━━━━━━━\u001b[0m\u001b[37m\u001b[0m \u001b[1m2s\u001b[0m 51ms/step - accuracy: 0.6750 - loss: 1.0847 - val_accuracy: 0.6055 - val_loss: 1.2214\n",
      "Epoch 27/100\n",
      "\u001b[1m39/39\u001b[0m \u001b[32m━━━━━━━━━━━━━━━━━━━━\u001b[0m\u001b[37m\u001b[0m \u001b[1m2s\u001b[0m 49ms/step - accuracy: 0.6669 - loss: 1.0830 - val_accuracy: 0.5917 - val_loss: 1.2590\n",
      "Epoch 28/100\n",
      "\u001b[1m39/39\u001b[0m \u001b[32m━━━━━━━━━━━━━━━━━━━━\u001b[0m\u001b[37m\u001b[0m \u001b[1m2s\u001b[0m 48ms/step - accuracy: 0.6864 - loss: 1.0503 - val_accuracy: 0.6055 - val_loss: 1.2120\n",
      "Epoch 29/100\n",
      "\u001b[1m39/39\u001b[0m \u001b[32m━━━━━━━━━━━━━━━━━━━━\u001b[0m\u001b[37m\u001b[0m \u001b[1m2s\u001b[0m 48ms/step - accuracy: 0.6945 - loss: 1.0275 - val_accuracy: 0.6009 - val_loss: 1.2073\n",
      "Epoch 30/100\n",
      "\u001b[1m39/39\u001b[0m \u001b[32m━━━━━━━━━━━━━━━━━━━━\u001b[0m\u001b[37m\u001b[0m \u001b[1m2s\u001b[0m 49ms/step - accuracy: 0.7018 - loss: 1.0043 - val_accuracy: 0.6193 - val_loss: 1.1882\n",
      "Epoch 31/100\n",
      "\u001b[1m39/39\u001b[0m \u001b[32m━━━━━━━━━━━━━━━━━━━━\u001b[0m\u001b[37m\u001b[0m \u001b[1m2s\u001b[0m 47ms/step - accuracy: 0.7204 - loss: 0.9773 - val_accuracy: 0.6147 - val_loss: 1.1998\n",
      "Epoch 32/100\n",
      "\u001b[1m39/39\u001b[0m \u001b[32m━━━━━━━━━━━━━━━━━━━━\u001b[0m\u001b[37m\u001b[0m \u001b[1m2s\u001b[0m 48ms/step - accuracy: 0.7391 - loss: 0.9495 - val_accuracy: 0.6330 - val_loss: 1.1904\n",
      "Epoch 33/100\n",
      "\u001b[1m39/39\u001b[0m \u001b[32m━━━━━━━━━━━━━━━━━━━━\u001b[0m\u001b[37m\u001b[0m \u001b[1m2s\u001b[0m 49ms/step - accuracy: 0.7382 - loss: 0.9288 - val_accuracy: 0.6239 - val_loss: 1.1903\n",
      "Epoch 34/100\n",
      "\u001b[1m39/39\u001b[0m \u001b[32m━━━━━━━━━━━━━━━━━━━━\u001b[0m\u001b[37m\u001b[0m \u001b[1m2s\u001b[0m 49ms/step - accuracy: 0.7391 - loss: 0.9210 - val_accuracy: 0.6239 - val_loss: 1.1768\n",
      "Epoch 35/100\n",
      "\u001b[1m39/39\u001b[0m \u001b[32m━━━━━━━━━━━━━━━━━━━━\u001b[0m\u001b[37m\u001b[0m \u001b[1m2s\u001b[0m 48ms/step - accuracy: 0.7464 - loss: 0.8990 - val_accuracy: 0.6284 - val_loss: 1.2101\n",
      "Epoch 36/100\n",
      "\u001b[1m39/39\u001b[0m \u001b[32m━━━━━━━━━━━━━━━━━━━━\u001b[0m\u001b[37m\u001b[0m \u001b[1m2s\u001b[0m 49ms/step - accuracy: 0.7674 - loss: 0.8755 - val_accuracy: 0.6284 - val_loss: 1.1901\n",
      "Epoch 37/100\n",
      "\u001b[1m39/39\u001b[0m \u001b[32m━━━━━━━━━━━━━━━━━━━━\u001b[0m\u001b[37m\u001b[0m \u001b[1m2s\u001b[0m 47ms/step - accuracy: 0.7723 - loss: 0.8520 - val_accuracy: 0.6239 - val_loss: 1.2108\n",
      "Epoch 38/100\n",
      "\u001b[1m39/39\u001b[0m \u001b[32m━━━━━━━━━━━━━━━━━━━━\u001b[0m\u001b[37m\u001b[0m \u001b[1m2s\u001b[0m 48ms/step - accuracy: 0.7601 - loss: 0.8511 - val_accuracy: 0.6147 - val_loss: 1.1899\n",
      "Epoch 39/100\n",
      "\u001b[1m39/39\u001b[0m \u001b[32m━━━━━━━━━━━━━━━━━━━━\u001b[0m\u001b[37m\u001b[0m \u001b[1m2s\u001b[0m 51ms/step - accuracy: 0.7731 - loss: 0.8423 - val_accuracy: 0.6330 - val_loss: 1.1695\n",
      "Epoch 40/100\n",
      "\u001b[1m39/39\u001b[0m \u001b[32m━━━━━━━━━━━━━━━━━━━━\u001b[0m\u001b[37m\u001b[0m \u001b[1m2s\u001b[0m 49ms/step - accuracy: 0.7755 - loss: 0.8054 - val_accuracy: 0.6606 - val_loss: 1.1731\n",
      "Epoch 41/100\n",
      "\u001b[1m39/39\u001b[0m \u001b[32m━━━━━━━━━━━━━━━━━━━━\u001b[0m\u001b[37m\u001b[0m \u001b[1m2s\u001b[0m 47ms/step - accuracy: 0.7853 - loss: 0.8011 - val_accuracy: 0.6239 - val_loss: 1.2023\n",
      "Epoch 42/100\n",
      "\u001b[1m39/39\u001b[0m \u001b[32m━━━━━━━━━━━━━━━━━━━━\u001b[0m\u001b[37m\u001b[0m \u001b[1m2s\u001b[0m 49ms/step - accuracy: 0.8177 - loss: 0.7553 - val_accuracy: 0.6330 - val_loss: 1.1875\n",
      "Epoch 43/100\n",
      "\u001b[1m39/39\u001b[0m \u001b[32m━━━━━━━━━━━━━━━━━━━━\u001b[0m\u001b[37m\u001b[0m \u001b[1m2s\u001b[0m 49ms/step - accuracy: 0.8136 - loss: 0.7467 - val_accuracy: 0.6193 - val_loss: 1.1804\n",
      "Epoch 44/100\n",
      "\u001b[1m39/39\u001b[0m \u001b[32m━━━━━━━━━━━━━━━━━━━━\u001b[0m\u001b[37m\u001b[0m \u001b[1m2s\u001b[0m 48ms/step - accuracy: 0.8217 - loss: 0.7327 - val_accuracy: 0.6239 - val_loss: 1.1823\n",
      "Epoch 44: early stopping\n",
      "Restoring model weights from the end of the best epoch: 39.\n"
     ]
    }
   ],
   "source": [
    "print(\"\\nTraining model...\")\n",
    "# Callback untuk Early Stopping\n",
    "early_stopping = EarlyStopping(\n",
    "    monitor='val_loss',\n",
    "    patience=5,\n",
    "    restore_best_weights=True,\n",
    "    verbose=1,\n",
    "    mode='min'\n",
    ")\n",
    "\n",
    "history = model_lstm.fit(\n",
    "    X_train,\n",
    "    y_train,\n",
    "    epochs=100,\n",
    "    batch_size=32,\n",
    "    validation_split=0.15,\n",
    "    callbacks=[early_stopping] # Menggunakan nama variabel callback\n",
    ")"
   ]
  },
  {
   "cell_type": "markdown",
   "metadata": {
    "id": "ZehK5v-IPngo"
   },
   "source": [
    "# 5. Model Evaluation"
   ]
  },
  {
   "cell_type": "markdown",
   "metadata": {},
   "source": [
    "## 5.1. Prediction"
   ]
  },
  {
   "cell_type": "code",
   "execution_count": 86,
   "metadata": {
    "colab": {
     "base_uri": "https://localhost:8080/",
     "height": 426
    },
    "executionInfo": {
     "elapsed": 1208,
     "status": "error",
     "timestamp": 1759926765337,
     "user": {
      "displayName": "Arjuna Rivaldo",
      "userId": "01428253285493029486"
     },
     "user_tz": -540
    },
    "id": "m4q8ZsAeyCF7",
    "outputId": "e43ee13a-6345-475e-a9a7-6401b4a176d6"
   },
   "outputs": [
    {
     "name": "stdout",
     "output_type": "stream",
     "text": [
      "\u001b[1m12/12\u001b[0m \u001b[32m━━━━━━━━━━━━━━━━━━━━\u001b[0m\u001b[37m\u001b[0m \u001b[1m1s\u001b[0m 57ms/step\n",
      "\u001b[1m46/46\u001b[0m \u001b[32m━━━━━━━━━━━━━━━━━━━━\u001b[0m\u001b[37m\u001b[0m \u001b[1m1s\u001b[0m 11ms/step\n"
     ]
    }
   ],
   "source": [
    "# Prediksi untuk data test dan train\n",
    "y_pred_prob_test = model_lstm.predict(X_test)\n",
    "y_pred_prob_train = model_lstm.predict(X_train)\n",
    "\n",
    "# Konversi probabilitas ke label kelas (0, 1, 2)\n",
    "y_pred_test = np.argmax(y_pred_prob_test, axis=1)\n",
    "y_pred_train = np.argmax(y_pred_prob_train, axis=1)\n",
    "\n",
    "# Konversi label One-Hot True ke label kelas (0, 1, 2)\n",
    "y_true_test = np.argmax(y_test, axis=1)\n",
    "y_true_train = np.argmax(y_train, axis=1)"
   ]
  },
  {
   "cell_type": "markdown",
   "metadata": {},
   "source": [
    "## 5.2. Metrics Calculation"
   ]
  },
  {
   "cell_type": "code",
   "execution_count": 87,
   "metadata": {
    "executionInfo": {
     "elapsed": 4,
     "status": "aborted",
     "timestamp": 1759926717029,
     "user": {
      "displayName": "Arjuna Rivaldo",
      "userId": "01428253285493029486"
     },
     "user_tz": -540
    },
    "id": "qq7L54Z4yCF8"
   },
   "outputs": [
    {
     "name": "stdout",
     "output_type": "stream",
     "text": [
      "\n",
      "Akurasi Training: 0.8154\n",
      "Akurasi Test: 0.6612\n",
      "\n",
      "Classification Report:\n",
      "              precision    recall  f1-score   support\n",
      "\n",
      "     negatif       0.66      0.68      0.67       116\n",
      "      netral       0.69      0.75      0.72       124\n",
      "     positif       0.62      0.55      0.59       123\n",
      "\n",
      "    accuracy                           0.66       363\n",
      "   macro avg       0.66      0.66      0.66       363\n",
      "weighted avg       0.66      0.66      0.66       363\n",
      "\n"
     ]
    }
   ],
   "source": [
    "target_names = ['negatif', 'netral', 'positif']\n",
    "\n",
    "accuracy_test = accuracy_score(y_true_test, y_pred_test)\n",
    "accuracy_train = accuracy_score(y_true_train, y_pred_train)\n",
    "\n",
    "print(f'\\nAkurasi Training: {accuracy_train:.4f}')\n",
    "print(f'Akurasi Test: {accuracy_test:.4f}')\n",
    "print(\"\\nClassification Report:\")\n",
    "print(classification_report(y_true_test, y_pred_test, target_names=target_names))"
   ]
  },
  {
   "cell_type": "markdown",
   "metadata": {},
   "source": [
    "## 5.3. Confusion Matrix Visualization"
   ]
  },
  {
   "cell_type": "code",
   "execution_count": 104,
   "metadata": {},
   "outputs": [
    {
     "data": {
      "image/png": "[encoded data removed]",
      "text/plain": [
       "<Figure size 800x600 with 2 Axes>"
      ]
     },
     "metadata": {},
     "output_type": "display_data"
    }
   ],
   "source": [
    "cm = confusion_matrix(y_true_test, y_pred_test)\n",
    "\n",
    "plt.figure(figsize=(8, 6))\n",
    "sns.heatmap(\n",
    "    cm,\n",
    "    annot=True, # Menampilkan nilai di setiap sel\n",
    "    fmt='d',    # Format integer\n",
    "    cmap='Blues',\n",
    "    xticklabels=target_names,\n",
    "    yticklabels=target_names\n",
    ")\n",
    "plt.xlabel('Predicted')\n",
    "plt.ylabel('True')\n",
    "plt.title('Confusion Matrix - BiLSTM + GloVe')\n",
    "plt.show()"
   ]
  },
  {
   "cell_type": "markdown",
   "metadata": {},
   "source": [
    "## 5.4. Visualisasi Kurva Akurasi dan Loss"
   ]
  },
  {
   "cell_type": "code",
   "execution_count": 89,
   "metadata": {},
   "outputs": [
    {
     "data": {
      "image/png": "[encoded data removed]",
      "text/plain": [
       "<Figure size 1200x500 with 2 Axes>"
      ]
     },
     "metadata": {},
     "output_type": "display_data"
    }
   ],
   "source": [
    "def plot_history(history):\n",
    "    \"\"\"\n",
    "    Membuat dua plot: \n",
    "    1. Kurva Akurasi (Training vs Validation)\n",
    "    2. Kurva Loss (Training vs Validation)\n",
    "    \"\"\"\n",
    "    \n",
    "    # Ambil data dari objek history\n",
    "    acc = history.history['accuracy']\n",
    "    val_acc = history.history['val_accuracy']\n",
    "    loss = history.history['loss']\n",
    "    val_loss = history.history['val_loss']\n",
    "    \n",
    "    epochs_range = range(len(acc))\n",
    "\n",
    "    # Plot 1: Akurasi\n",
    "    plt.figure(figsize=(12, 5))\n",
    "    plt.subplot(1, 2, 1) # Membuat grid 1 baris, 2 kolom, dan plot di posisi 1\n",
    "    plt.plot(epochs_range, acc, label='Training Accuracy', color='blue')\n",
    "    plt.plot(epochs_range, val_acc, label='Validation Accuracy', color='red')\n",
    "    plt.axhline(y=max(val_acc), color='red', linestyle='--', linewidth=1, \n",
    "                label=f'Best Val Acc: {max(val_acc):.4f}')\n",
    "    plt.legend(loc='lower right')\n",
    "    plt.title('Training and Validation Accuracy')\n",
    "    plt.xlabel('Epoch')\n",
    "    plt.ylabel('Accuracy')\n",
    "\n",
    "    # Plot 2: Loss\n",
    "    plt.subplot(1, 2, 2) # Membuat grid 1 baris, 2 kolom, dan plot di posisi 2\n",
    "    plt.plot(epochs_range, loss, label='Training Loss', color='blue')\n",
    "    plt.plot(epochs_range, val_loss, label='Validation Loss', color='red')\n",
    "    plt.axhline(y=min(val_loss), color='red', linestyle='--', linewidth=1, \n",
    "                label=f'Best Val Loss: {min(val_loss):.4f}')\n",
    "    plt.legend(loc='upper right')\n",
    "    plt.title('Training and Validation Loss')\n",
    "    plt.xlabel('Epoch')\n",
    "    plt.ylabel('Loss')\n",
    "    \n",
    "    plt.tight_layout() # Penyesuaian agar plot tidak bertumpuk\n",
    "    plt.show()\n",
    "\n",
    "# Panggil fungsi plot setelah training selesai\n",
    "plot_history(history)"
   ]
  }
 ],
 "metadata": {
  "colab": {
   "provenance": []
  },
  "kernelspec": {
   "display_name": "base",
   "language": "python",
   "name": "python3"
  },
  "language_info": {
   "codemirror_mode": {
    "name": "ipython",
    "version": 3
   },
   "file_extension": ".py",
   "mimetype": "text/x-python",
   "name": "python",
   "nbconvert_exporter": "python",
   "pygments_lexer": "ipython3",
   "version": "3.13.5"
  }
 },
 "nbformat": 4,
 "nbformat_minor": 0
}
